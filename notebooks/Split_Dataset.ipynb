{
 "cells": [
  {
   "attachments": {},
   "cell_type": "markdown",
   "metadata": {},
   "source": [
    "# DATA101 FINAL PROJECT\n",
    "# The US Accidents Dataset from Feb 2016 - Mar 2023\n",
    "<a class=\"anchor\" id=\"head\"></a>\n",
    "Submitted by: `Group 3`\n",
    "\n",
    "Members:\n",
    "1. Arceta, Althea Zyrie\n",
    "2. Ducut, Ezekiel\n",
    "3. Fausto, Lorane Bernadeth\n",
    "4. Hidalgo, Francisco Jose\n",
    "\n",
    "\n",
    "This notebook is used to explain and split the [US Traffic Accident Dataset](https://www.kaggle.com/datasets/sobhanmoosavi/us-accidents). The dataset will be explained and split by the end of this notebook.\n",
    "\n",
    "| **`Table of Contents`** |\n",
    "| --- |\n",
    "| [The Dataset](#the-dataset) |\n",
    "| [Reading the Dataset](#reading-the-dataset) |"
   ]
  },
  {
   "attachments": {},
   "cell_type": "markdown",
   "metadata": {},
   "source": [
    "## The Dataset\n",
    "\n",
    "-- [Return to Table of Contents](#DATA101-FINAL-PROJECT) --\n",
    "\n",
    "\n",
    "This comprehensive car accident dataset encompasses 49 states across the USA and spans from February 2016 to March 2023. The accident data, amounting to approximately 7.7 million records, were gathered through multiple APIs that stream traffic incident data. These APIs compile information from various sources, including the US and state departments of transportation, law enforcement agencies, traffic cameras, and road network sensors. In this analysis, we will specifically explore accident trends from 2020 to 2022."
   ]
  },
  {
   "cell_type": "markdown",
   "metadata": {},
   "source": [
    "## Importing Libraries\n",
    "For this notebook [**pandas**](https://pandas.pydata.org/) must be imported. "
   ]
  },
  {
   "cell_type": "code",
   "execution_count": 1,
   "metadata": {},
   "outputs": [],
   "source": [
    "import pandas as pd"
   ]
  },
  {
   "attachments": {},
   "cell_type": "markdown",
   "metadata": {},
   "source": [
    "## Reading the Dataset\n",
    "-- [Return to Table of Contents](#DATA101-FINAL-PROJECT) --\n",
    "\n",
    "Here we will load the dataset using pandas. This will load the dataset into a pandas `DataFrame`. We use the [`read_csv`](https://pandas.pydata.org/pandas-docs/stable/reference/api/pandas.read_csv.html) function to load the dataset. The path will have to be changed depending on the location of the file in your machine.\n"
   ]
  },
  {
   "cell_type": "code",
   "execution_count": 2,
   "metadata": {},
   "outputs": [],
   "source": [
    "cases_df = pd.read_csv('../dataset/US_Accidents_March23.csv')"
   ]
  },
  {
   "cell_type": "markdown",
   "metadata": {},
   "source": [
    "The dataset is now loaded in the `cases_df` variable. `cases_df` is a [`DataFrame`](https://pandas.pydata.org/pandas-docs/stable/reference/api/pandas.DataFrame.html). It is a data structure for storing tabular data, and the main data structure used in pandas.\n",
    "\n",
    "We will cut the dataset to only those accidents from January 01 2020 to December 31 2022 since this exploratory analysis will only focused on the specified dates.\n",
    "\n",
    "The first step is to Convert 'Start_Time' column to datetime to start extracting from 2020 to 2022."
   ]
  },
  {
   "cell_type": "code",
   "execution_count": 85,
   "metadata": {},
   "outputs": [],
   "source": [
    "cases_df['Start_Time'] = pd.to_datetime(cases_df['Start_Time'], errors='coerce')"
   ]
  },
  {
   "cell_type": "markdown",
   "metadata": {},
   "source": [
    "Filter out rows where 'Start_Time' is NaT"
   ]
  },
  {
   "cell_type": "code",
   "execution_count": 86,
   "metadata": {},
   "outputs": [],
   "source": [
    "cases_df = cases_df.dropna(subset=['Start_Time'])"
   ]
  },
  {
   "cell_type": "markdown",
   "metadata": {},
   "source": [
    "Now we filter the dataset for accidents that occurred between 2020 and 2022"
   ]
  },
  {
   "cell_type": "code",
   "execution_count": 87,
   "metadata": {},
   "outputs": [],
   "source": [
    "filtered_df = cases_df[(cases_df['Start_Time'] >= '2020-01-01') & (cases_df['Start_Time'] <= '2022-12-31')]"
   ]
  },
  {
   "cell_type": "markdown",
   "metadata": {},
   "source": [
    "Displaying the shape of the filtered dataset"
   ]
  },
  {
   "cell_type": "code",
   "execution_count": 88,
   "metadata": {},
   "outputs": [
    {
     "name": "stdout",
     "output_type": "stream",
     "text": [
      "(3838879, 46)\n"
     ]
    }
   ],
   "source": [
    "print(filtered_df.shape)"
   ]
  },
  {
   "cell_type": "markdown",
   "metadata": {},
   "source": [
    "Displaying the first few rows of the filtered dataset"
   ]
  },
  {
   "cell_type": "code",
   "execution_count": 89,
   "metadata": {},
   "outputs": [
    {
     "name": "stdout",
     "output_type": "stream",
     "text": [
      "              ID   Source  Severity          Start_Time             End_Time  \\\n",
      "512217  A-512230  Source2         1 2022-09-08 05:49:30  2022-09-08 06:34:53   \n",
      "512218  A-512231  Source2         1 2022-09-08 02:02:05  2022-09-08 04:31:32   \n",
      "512219  A-512232  Source2         1 2022-09-08 05:14:12  2022-09-08 07:38:17   \n",
      "512220  A-512233  Source2         1 2022-09-08 06:22:57  2022-09-08 06:52:42   \n",
      "512221  A-512234  Source2         2 2022-09-08 06:36:20  2022-09-08 07:05:58   \n",
      "\n",
      "        Start_Lat   Start_Lng  End_Lat  End_Lng  Distance(mi)  ... Roundabout  \\\n",
      "512217  41.946796  -88.208092      NaN      NaN          0.00  ...      False   \n",
      "512218  34.521172 -117.958076      NaN      NaN          0.00  ...      False   \n",
      "512219  37.542839  -77.441780      NaN      NaN          0.00  ...      False   \n",
      "512220  40.896629  -81.178452      NaN      NaN          0.00  ...      False   \n",
      "512221  41.409359  -81.644318      NaN      NaN          1.91  ...      False   \n",
      "\n",
      "       Station   Stop Traffic_Calming Traffic_Signal Turning_Loop  \\\n",
      "512217   False  False           False           True        False   \n",
      "512218   False  False           False          False        False   \n",
      "512219   False  False           False           True        False   \n",
      "512220   False  False           False          False        False   \n",
      "512221   False  False           False          False        False   \n",
      "\n",
      "       Sunrise_Sunset Civil_Twilight Nautical_Twilight Astronomical_Twilight  \n",
      "512217          Night          Night               Day                   Day  \n",
      "512218          Night          Night             Night                 Night  \n",
      "512219          Night          Night             Night                 Night  \n",
      "512220          Night          Night               Day                   Day  \n",
      "512221          Night            Day               Day                   Day  \n",
      "\n",
      "[5 rows x 46 columns]\n"
     ]
    }
   ],
   "source": [
    "print(filtered_df.head())"
   ]
  },
  {
   "cell_type": "markdown",
   "metadata": {},
   "source": [
    "The dataset is now loaded in the `filtered_df` variable. `filtered_df` is a [`DataFrame`](https://pandas.pydata.org/pandas-docs/stable/reference/api/pandas.DataFrame.html). It is a data structure for storing tabular data, and the main data structure used in pandas.\n",
    "\n",
    "The next cell show the contents of the `DataFrame`."
   ]
  },
  {
   "cell_type": "code",
   "execution_count": 90,
   "metadata": {
    "colab_type": "text",
    "id": "J9k8lCPbHTkb"
   },
   "outputs": [
    {
     "data": {
      "text/html": [
       "<div>\n",
       "<style scoped>\n",
       "    .dataframe tbody tr th:only-of-type {\n",
       "        vertical-align: middle;\n",
       "    }\n",
       "\n",
       "    .dataframe tbody tr th {\n",
       "        vertical-align: top;\n",
       "    }\n",
       "\n",
       "    .dataframe thead th {\n",
       "        text-align: right;\n",
       "    }\n",
       "</style>\n",
       "<table border=\"1\" class=\"dataframe\">\n",
       "  <thead>\n",
       "    <tr style=\"text-align: right;\">\n",
       "      <th></th>\n",
       "      <th>ID</th>\n",
       "      <th>Source</th>\n",
       "      <th>Severity</th>\n",
       "      <th>Start_Time</th>\n",
       "      <th>End_Time</th>\n",
       "      <th>Start_Lat</th>\n",
       "      <th>Start_Lng</th>\n",
       "      <th>End_Lat</th>\n",
       "      <th>End_Lng</th>\n",
       "      <th>Distance(mi)</th>\n",
       "      <th>...</th>\n",
       "      <th>Roundabout</th>\n",
       "      <th>Station</th>\n",
       "      <th>Stop</th>\n",
       "      <th>Traffic_Calming</th>\n",
       "      <th>Traffic_Signal</th>\n",
       "      <th>Turning_Loop</th>\n",
       "      <th>Sunrise_Sunset</th>\n",
       "      <th>Civil_Twilight</th>\n",
       "      <th>Nautical_Twilight</th>\n",
       "      <th>Astronomical_Twilight</th>\n",
       "    </tr>\n",
       "  </thead>\n",
       "  <tbody>\n",
       "    <tr>\n",
       "      <th>512217</th>\n",
       "      <td>A-512230</td>\n",
       "      <td>Source2</td>\n",
       "      <td>1</td>\n",
       "      <td>2022-09-08 05:49:30</td>\n",
       "      <td>2022-09-08 06:34:53</td>\n",
       "      <td>41.946796</td>\n",
       "      <td>-88.208092</td>\n",
       "      <td>NaN</td>\n",
       "      <td>NaN</td>\n",
       "      <td>0.000</td>\n",
       "      <td>...</td>\n",
       "      <td>False</td>\n",
       "      <td>False</td>\n",
       "      <td>False</td>\n",
       "      <td>False</td>\n",
       "      <td>True</td>\n",
       "      <td>False</td>\n",
       "      <td>Night</td>\n",
       "      <td>Night</td>\n",
       "      <td>Day</td>\n",
       "      <td>Day</td>\n",
       "    </tr>\n",
       "    <tr>\n",
       "      <th>512218</th>\n",
       "      <td>A-512231</td>\n",
       "      <td>Source2</td>\n",
       "      <td>1</td>\n",
       "      <td>2022-09-08 02:02:05</td>\n",
       "      <td>2022-09-08 04:31:32</td>\n",
       "      <td>34.521172</td>\n",
       "      <td>-117.958076</td>\n",
       "      <td>NaN</td>\n",
       "      <td>NaN</td>\n",
       "      <td>0.000</td>\n",
       "      <td>...</td>\n",
       "      <td>False</td>\n",
       "      <td>False</td>\n",
       "      <td>False</td>\n",
       "      <td>False</td>\n",
       "      <td>False</td>\n",
       "      <td>False</td>\n",
       "      <td>Night</td>\n",
       "      <td>Night</td>\n",
       "      <td>Night</td>\n",
       "      <td>Night</td>\n",
       "    </tr>\n",
       "    <tr>\n",
       "      <th>512219</th>\n",
       "      <td>A-512232</td>\n",
       "      <td>Source2</td>\n",
       "      <td>1</td>\n",
       "      <td>2022-09-08 05:14:12</td>\n",
       "      <td>2022-09-08 07:38:17</td>\n",
       "      <td>37.542839</td>\n",
       "      <td>-77.441780</td>\n",
       "      <td>NaN</td>\n",
       "      <td>NaN</td>\n",
       "      <td>0.000</td>\n",
       "      <td>...</td>\n",
       "      <td>False</td>\n",
       "      <td>False</td>\n",
       "      <td>False</td>\n",
       "      <td>False</td>\n",
       "      <td>True</td>\n",
       "      <td>False</td>\n",
       "      <td>Night</td>\n",
       "      <td>Night</td>\n",
       "      <td>Night</td>\n",
       "      <td>Night</td>\n",
       "    </tr>\n",
       "    <tr>\n",
       "      <th>512220</th>\n",
       "      <td>A-512233</td>\n",
       "      <td>Source2</td>\n",
       "      <td>1</td>\n",
       "      <td>2022-09-08 06:22:57</td>\n",
       "      <td>2022-09-08 06:52:42</td>\n",
       "      <td>40.896629</td>\n",
       "      <td>-81.178452</td>\n",
       "      <td>NaN</td>\n",
       "      <td>NaN</td>\n",
       "      <td>0.000</td>\n",
       "      <td>...</td>\n",
       "      <td>False</td>\n",
       "      <td>False</td>\n",
       "      <td>False</td>\n",
       "      <td>False</td>\n",
       "      <td>False</td>\n",
       "      <td>False</td>\n",
       "      <td>Night</td>\n",
       "      <td>Night</td>\n",
       "      <td>Day</td>\n",
       "      <td>Day</td>\n",
       "    </tr>\n",
       "    <tr>\n",
       "      <th>512221</th>\n",
       "      <td>A-512234</td>\n",
       "      <td>Source2</td>\n",
       "      <td>2</td>\n",
       "      <td>2022-09-08 06:36:20</td>\n",
       "      <td>2022-09-08 07:05:58</td>\n",
       "      <td>41.409359</td>\n",
       "      <td>-81.644318</td>\n",
       "      <td>NaN</td>\n",
       "      <td>NaN</td>\n",
       "      <td>1.910</td>\n",
       "      <td>...</td>\n",
       "      <td>False</td>\n",
       "      <td>False</td>\n",
       "      <td>False</td>\n",
       "      <td>False</td>\n",
       "      <td>False</td>\n",
       "      <td>False</td>\n",
       "      <td>Night</td>\n",
       "      <td>Day</td>\n",
       "      <td>Day</td>\n",
       "      <td>Day</td>\n",
       "    </tr>\n",
       "    <tr>\n",
       "      <th>...</th>\n",
       "      <td>...</td>\n",
       "      <td>...</td>\n",
       "      <td>...</td>\n",
       "      <td>...</td>\n",
       "      <td>...</td>\n",
       "      <td>...</td>\n",
       "      <td>...</td>\n",
       "      <td>...</td>\n",
       "      <td>...</td>\n",
       "      <td>...</td>\n",
       "      <td>...</td>\n",
       "      <td>...</td>\n",
       "      <td>...</td>\n",
       "      <td>...</td>\n",
       "      <td>...</td>\n",
       "      <td>...</td>\n",
       "      <td>...</td>\n",
       "      <td>...</td>\n",
       "      <td>...</td>\n",
       "      <td>...</td>\n",
       "      <td>...</td>\n",
       "    </tr>\n",
       "    <tr>\n",
       "      <th>7235934</th>\n",
       "      <td>A-7285297</td>\n",
       "      <td>Source1</td>\n",
       "      <td>2</td>\n",
       "      <td>2020-01-06 20:59:00</td>\n",
       "      <td>2020-01-06 21:32:38</td>\n",
       "      <td>34.265778</td>\n",
       "      <td>-118.454289</td>\n",
       "      <td>34.265778</td>\n",
       "      <td>-118.454289</td>\n",
       "      <td>0.000</td>\n",
       "      <td>...</td>\n",
       "      <td>False</td>\n",
       "      <td>False</td>\n",
       "      <td>False</td>\n",
       "      <td>False</td>\n",
       "      <td>False</td>\n",
       "      <td>False</td>\n",
       "      <td>Night</td>\n",
       "      <td>Night</td>\n",
       "      <td>Night</td>\n",
       "      <td>Night</td>\n",
       "    </tr>\n",
       "    <tr>\n",
       "      <th>7235935</th>\n",
       "      <td>A-7285298</td>\n",
       "      <td>Source1</td>\n",
       "      <td>2</td>\n",
       "      <td>2020-01-06 21:14:00</td>\n",
       "      <td>2020-01-06 23:16:38</td>\n",
       "      <td>35.736667</td>\n",
       "      <td>-119.742500</td>\n",
       "      <td>35.736667</td>\n",
       "      <td>-119.742500</td>\n",
       "      <td>0.000</td>\n",
       "      <td>...</td>\n",
       "      <td>False</td>\n",
       "      <td>False</td>\n",
       "      <td>False</td>\n",
       "      <td>False</td>\n",
       "      <td>False</td>\n",
       "      <td>False</td>\n",
       "      <td>Night</td>\n",
       "      <td>Night</td>\n",
       "      <td>Night</td>\n",
       "      <td>Night</td>\n",
       "    </tr>\n",
       "    <tr>\n",
       "      <th>7235936</th>\n",
       "      <td>A-7285299</td>\n",
       "      <td>Source1</td>\n",
       "      <td>2</td>\n",
       "      <td>2020-01-06 21:19:00</td>\n",
       "      <td>2020-01-06 22:19:37</td>\n",
       "      <td>34.075263</td>\n",
       "      <td>-118.281157</td>\n",
       "      <td>34.075263</td>\n",
       "      <td>-118.281157</td>\n",
       "      <td>0.000</td>\n",
       "      <td>...</td>\n",
       "      <td>False</td>\n",
       "      <td>False</td>\n",
       "      <td>True</td>\n",
       "      <td>True</td>\n",
       "      <td>False</td>\n",
       "      <td>False</td>\n",
       "      <td>Night</td>\n",
       "      <td>Night</td>\n",
       "      <td>Night</td>\n",
       "      <td>Night</td>\n",
       "    </tr>\n",
       "    <tr>\n",
       "      <th>7246305</th>\n",
       "      <td>A-7295668</td>\n",
       "      <td>Source1</td>\n",
       "      <td>2</td>\n",
       "      <td>2020-01-01 00:08:02</td>\n",
       "      <td>2020-01-01 00:37:03</td>\n",
       "      <td>42.315690</td>\n",
       "      <td>-83.085920</td>\n",
       "      <td>42.312500</td>\n",
       "      <td>-83.094120</td>\n",
       "      <td>0.473</td>\n",
       "      <td>...</td>\n",
       "      <td>False</td>\n",
       "      <td>False</td>\n",
       "      <td>False</td>\n",
       "      <td>False</td>\n",
       "      <td>False</td>\n",
       "      <td>False</td>\n",
       "      <td>Night</td>\n",
       "      <td>Night</td>\n",
       "      <td>Night</td>\n",
       "      <td>Night</td>\n",
       "    </tr>\n",
       "    <tr>\n",
       "      <th>7246341</th>\n",
       "      <td>A-7295704</td>\n",
       "      <td>Source1</td>\n",
       "      <td>4</td>\n",
       "      <td>2020-01-01 00:31:17</td>\n",
       "      <td>2020-01-01 00:59:51</td>\n",
       "      <td>38.840700</td>\n",
       "      <td>-76.942320</td>\n",
       "      <td>38.840730</td>\n",
       "      <td>-76.942230</td>\n",
       "      <td>0.005</td>\n",
       "      <td>...</td>\n",
       "      <td>False</td>\n",
       "      <td>False</td>\n",
       "      <td>False</td>\n",
       "      <td>False</td>\n",
       "      <td>True</td>\n",
       "      <td>False</td>\n",
       "      <td>Night</td>\n",
       "      <td>Night</td>\n",
       "      <td>Night</td>\n",
       "      <td>Night</td>\n",
       "    </tr>\n",
       "  </tbody>\n",
       "</table>\n",
       "<p>3838879 rows × 46 columns</p>\n",
       "</div>"
      ],
      "text/plain": [
       "                ID   Source  Severity          Start_Time  \\\n",
       "512217    A-512230  Source2         1 2022-09-08 05:49:30   \n",
       "512218    A-512231  Source2         1 2022-09-08 02:02:05   \n",
       "512219    A-512232  Source2         1 2022-09-08 05:14:12   \n",
       "512220    A-512233  Source2         1 2022-09-08 06:22:57   \n",
       "512221    A-512234  Source2         2 2022-09-08 06:36:20   \n",
       "...            ...      ...       ...                 ...   \n",
       "7235934  A-7285297  Source1         2 2020-01-06 20:59:00   \n",
       "7235935  A-7285298  Source1         2 2020-01-06 21:14:00   \n",
       "7235936  A-7285299  Source1         2 2020-01-06 21:19:00   \n",
       "7246305  A-7295668  Source1         2 2020-01-01 00:08:02   \n",
       "7246341  A-7295704  Source1         4 2020-01-01 00:31:17   \n",
       "\n",
       "                    End_Time  Start_Lat   Start_Lng    End_Lat     End_Lng  \\\n",
       "512217   2022-09-08 06:34:53  41.946796  -88.208092        NaN         NaN   \n",
       "512218   2022-09-08 04:31:32  34.521172 -117.958076        NaN         NaN   \n",
       "512219   2022-09-08 07:38:17  37.542839  -77.441780        NaN         NaN   \n",
       "512220   2022-09-08 06:52:42  40.896629  -81.178452        NaN         NaN   \n",
       "512221   2022-09-08 07:05:58  41.409359  -81.644318        NaN         NaN   \n",
       "...                      ...        ...         ...        ...         ...   \n",
       "7235934  2020-01-06 21:32:38  34.265778 -118.454289  34.265778 -118.454289   \n",
       "7235935  2020-01-06 23:16:38  35.736667 -119.742500  35.736667 -119.742500   \n",
       "7235936  2020-01-06 22:19:37  34.075263 -118.281157  34.075263 -118.281157   \n",
       "7246305  2020-01-01 00:37:03  42.315690  -83.085920  42.312500  -83.094120   \n",
       "7246341  2020-01-01 00:59:51  38.840700  -76.942320  38.840730  -76.942230   \n",
       "\n",
       "         Distance(mi)  ... Roundabout Station   Stop Traffic_Calming  \\\n",
       "512217          0.000  ...      False   False  False           False   \n",
       "512218          0.000  ...      False   False  False           False   \n",
       "512219          0.000  ...      False   False  False           False   \n",
       "512220          0.000  ...      False   False  False           False   \n",
       "512221          1.910  ...      False   False  False           False   \n",
       "...               ...  ...        ...     ...    ...             ...   \n",
       "7235934         0.000  ...      False   False  False           False   \n",
       "7235935         0.000  ...      False   False  False           False   \n",
       "7235936         0.000  ...      False   False   True            True   \n",
       "7246305         0.473  ...      False   False  False           False   \n",
       "7246341         0.005  ...      False   False  False           False   \n",
       "\n",
       "        Traffic_Signal Turning_Loop Sunrise_Sunset Civil_Twilight  \\\n",
       "512217            True        False          Night          Night   \n",
       "512218           False        False          Night          Night   \n",
       "512219            True        False          Night          Night   \n",
       "512220           False        False          Night          Night   \n",
       "512221           False        False          Night            Day   \n",
       "...                ...          ...            ...            ...   \n",
       "7235934          False        False          Night          Night   \n",
       "7235935          False        False          Night          Night   \n",
       "7235936          False        False          Night          Night   \n",
       "7246305          False        False          Night          Night   \n",
       "7246341           True        False          Night          Night   \n",
       "\n",
       "        Nautical_Twilight Astronomical_Twilight  \n",
       "512217                Day                   Day  \n",
       "512218              Night                 Night  \n",
       "512219              Night                 Night  \n",
       "512220                Day                   Day  \n",
       "512221                Day                   Day  \n",
       "...                   ...                   ...  \n",
       "7235934             Night                 Night  \n",
       "7235935             Night                 Night  \n",
       "7235936             Night                 Night  \n",
       "7246305             Night                 Night  \n",
       "7246341             Night                 Night  \n",
       "\n",
       "[3838879 rows x 46 columns]"
      ]
     },
     "execution_count": 90,
     "metadata": {},
     "output_type": "execute_result"
    }
   ],
   "source": [
    "filtered_df"
   ]
  },
  {
   "cell_type": "markdown",
   "metadata": {},
   "source": [
    "Display the dataset info using the [`info`](https://pandas.pydata.org/docs/reference/api/pandas.DataFrame.info.html) function."
   ]
  },
  {
   "cell_type": "code",
   "execution_count": 91,
   "metadata": {},
   "outputs": [
    {
     "name": "stdout",
     "output_type": "stream",
     "text": [
      "<class 'pandas.core.frame.DataFrame'>\n",
      "Index: 3838879 entries, 512217 to 7246341\n",
      "Data columns (total 46 columns):\n",
      " #   Column                 Dtype         \n",
      "---  ------                 -----         \n",
      " 0   ID                     object        \n",
      " 1   Source                 object        \n",
      " 2   Severity               int64         \n",
      " 3   Start_Time             datetime64[ns]\n",
      " 4   End_Time               object        \n",
      " 5   Start_Lat              float64       \n",
      " 6   Start_Lng              float64       \n",
      " 7   End_Lat                float64       \n",
      " 8   End_Lng                float64       \n",
      " 9   Distance(mi)           float64       \n",
      " 10  Description            object        \n",
      " 11  Street                 object        \n",
      " 12  City                   object        \n",
      " 13  County                 object        \n",
      " 14  State                  object        \n",
      " 15  Zipcode                object        \n",
      " 16  Country                object        \n",
      " 17  Timezone               object        \n",
      " 18  Airport_Code           object        \n",
      " 19  Weather_Timestamp      object        \n",
      " 20  Temperature(F)         float64       \n",
      " 21  Wind_Chill(F)          float64       \n",
      " 22  Humidity(%)            float64       \n",
      " 23  Pressure(in)           float64       \n",
      " 24  Visibility(mi)         float64       \n",
      " 25  Wind_Direction         object        \n",
      " 26  Wind_Speed(mph)        float64       \n",
      " 27  Precipitation(in)      float64       \n",
      " 28  Weather_Condition      object        \n",
      " 29  Amenity                bool          \n",
      " 30  Bump                   bool          \n",
      " 31  Crossing               bool          \n",
      " 32  Give_Way               bool          \n",
      " 33  Junction               bool          \n",
      " 34  No_Exit                bool          \n",
      " 35  Railway                bool          \n",
      " 36  Roundabout             bool          \n",
      " 37  Station                bool          \n",
      " 38  Stop                   bool          \n",
      " 39  Traffic_Calming        bool          \n",
      " 40  Traffic_Signal         bool          \n",
      " 41  Turning_Loop           bool          \n",
      " 42  Sunrise_Sunset         object        \n",
      " 43  Civil_Twilight         object        \n",
      " 44  Nautical_Twilight      object        \n",
      " 45  Astronomical_Twilight  object        \n",
      "dtypes: bool(13), datetime64[ns](1), float64(12), int64(1), object(19)\n",
      "memory usage: 1.0+ GB\n"
     ]
    }
   ],
   "source": [
    "filtered_df.info()"
   ]
  },
  {
   "cell_type": "markdown",
   "metadata": {},
   "source": [
    "Display all the columns in the dataset using the [`columns`](https://pandas.pydata.org/docs/reference/api/pandas.DataFrame.columns.html) function."
   ]
  },
  {
   "cell_type": "code",
   "execution_count": 92,
   "metadata": {},
   "outputs": [
    {
     "name": "stdout",
     "output_type": "stream",
     "text": [
      "Index(['ID', 'Source', 'Severity', 'Start_Time', 'End_Time', 'Start_Lat',\n",
      "       'Start_Lng', 'End_Lat', 'End_Lng', 'Distance(mi)', 'Description',\n",
      "       'Street', 'City', 'County', 'State', 'Zipcode', 'Country', 'Timezone',\n",
      "       'Airport_Code', 'Weather_Timestamp', 'Temperature(F)', 'Wind_Chill(F)',\n",
      "       'Humidity(%)', 'Pressure(in)', 'Visibility(mi)', 'Wind_Direction',\n",
      "       'Wind_Speed(mph)', 'Precipitation(in)', 'Weather_Condition', 'Amenity',\n",
      "       'Bump', 'Crossing', 'Give_Way', 'Junction', 'No_Exit', 'Railway',\n",
      "       'Roundabout', 'Station', 'Stop', 'Traffic_Calming', 'Traffic_Signal',\n",
      "       'Turning_Loop', 'Sunrise_Sunset', 'Civil_Twilight', 'Nautical_Twilight',\n",
      "       'Astronomical_Twilight'],\n",
      "      dtype='object')\n"
     ]
    }
   ],
   "source": [
    "print(filtered_df.columns)"
   ]
  },
  {
   "cell_type": "markdown",
   "metadata": {},
   "source": [
    "After initially exploring the dataset, it is time to export the new dataset and begin the cleaning process. We will use the [`to_csv`](https://pandas.pydata.org/docs/reference/api/pandas.DataFrame.to_csv.html) function for exporting."
   ]
  },
  {
   "cell_type": "code",
   "execution_count": null,
   "metadata": {},
   "outputs": [],
   "source": [
    "filtered_df.to_csv('../dataset/us_accidents_cut.csv', index=False)\n"
   ]
  },
  {
   "cell_type": "markdown",
   "metadata": {},
   "source": [
    "Now, we will proceed to the `Clean_Dataset.ipynb` for the cleaning process and exploratory data analysis."
   ]
  }
 ],
 "metadata": {
  "colab": {
   "name": "1 - Jupyter Notebook and Python.ipynb",
   "provenance": []
  },
  "kernelspec": {
   "display_name": "Python 3",
   "language": "python",
   "name": "python3"
  },
  "language_info": {
   "codemirror_mode": {
    "name": "ipython",
    "version": 3
   },
   "file_extension": ".py",
   "mimetype": "text/x-python",
   "name": "python",
   "nbconvert_exporter": "python",
   "pygments_lexer": "ipython3",
   "version": "3.11.2"
  },
  "vscode": {
   "interpreter": {
    "hash": "35ed6aa12a0d6ba18c9d471f8c51327fdbfc13293fb971f148297e9497ae5ae2"
   }
  }
 },
 "nbformat": 4,
 "nbformat_minor": 1
}
